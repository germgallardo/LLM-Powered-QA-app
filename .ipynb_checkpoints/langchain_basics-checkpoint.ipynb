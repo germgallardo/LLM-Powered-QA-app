{
 "cells": [
  {
   "cell_type": "code",
   "execution_count": 1,
   "id": "412f0452",
   "metadata": {},
   "outputs": [],
   "source": [
    "!pip install -r ./requirements.txt -q\n",
    "# !pip - installs the packages in the base environment\n",
    "# pip - installs the packages in the virtual environment"
   ]
  },
  {
   "cell_type": "code",
   "execution_count": 2,
   "id": "ed7b0027",
   "metadata": {},
   "outputs": [
    {
     "name": "stdout",
     "output_type": "stream",
     "text": [
      "Name: langchain\n",
      "Version: 0.0.325\n",
      "Summary: Building applications with LLMs through composability\n",
      "Home-page: https://github.com/langchain-ai/langchain\n",
      "Author: \n",
      "Author-email: \n",
      "License: MIT\n",
      "Location: C:\\Users\\germa\\anaconda3\\Lib\\site-packages\n",
      "Requires: aiohttp, anyio, dataclasses-json, jsonpatch, langsmith, numpy, pydantic, PyYAML, requests, SQLAlchemy, tenacity\n",
      "Required-by: \n"
     ]
    }
   ],
   "source": [
    "!pip show langchain"
   ]
  },
  {
   "cell_type": "code",
   "execution_count": 3,
   "id": "eec8be33",
   "metadata": {},
   "outputs": [],
   "source": [
    "! pip install langchain --upgrade -q"
   ]
  },
  {
   "cell_type": "markdown",
   "id": "1c788f90",
   "metadata": {},
   "source": [
    "### Python-dotenv"
   ]
  },
  {
   "cell_type": "code",
   "execution_count": 1,
   "id": "d48eecc0",
   "metadata": {},
   "outputs": [
    {
     "data": {
      "text/plain": [
       "'4bc01ab7-1af2-4cdb-8f97-4ea339680b6d'"
      ]
     },
     "execution_count": 1,
     "metadata": {},
     "output_type": "execute_result"
    }
   ],
   "source": [
    "import os\n",
    "from dotenv import load_dotenv, find_dotenv\n",
    "# load_dotenv(./.env)\n",
    "load_dotenv(find_dotenv(), override=True)\n",
    "\n",
    "os.environ.get(\"PINECONE_API_KEY\")"
   ]
  },
  {
   "cell_type": "markdown",
   "id": "d88a40c9",
   "metadata": {},
   "source": [
    "### LLM Models (Wrappers): GPT3"
   ]
  },
  {
   "cell_type": "code",
   "execution_count": 4,
   "id": "ad8b1c39",
   "metadata": {},
   "outputs": [
    {
     "name": "stdout",
     "output_type": "stream",
     "text": [
      "\u001b[1mOpenAI\u001b[0m\n",
      "Params: {'model_name': 'text-davinci-003', 'temperature': 0.7, 'max_tokens': 512, 'top_p': 1, 'frequency_penalty': 0, 'presence_penalty': 0, 'n': 1, 'request_timeout': None, 'logit_bias': {}}\n"
     ]
    }
   ],
   "source": [
    "from langchain.llms import OpenAI\n",
    "llm = OpenAI(model_name=\"text-davinci-003\", temperature=0.7, max_tokens=512)\n",
    "print(llm)"
   ]
  },
  {
   "cell_type": "code",
   "execution_count": 3,
   "id": "b61ff457",
   "metadata": {},
   "outputs": [
    {
     "name": "stdout",
     "output_type": "stream",
     "text": [
      "\n",
      "\n",
      "Quantum mechanics is a theory that describes the behavior of matter and energy at the subatomic level.\n"
     ]
    }
   ],
   "source": [
    "output = llm(\"explain quantum mechanics in one sentence\")\n",
    "print(output)"
   ]
  },
  {
   "cell_type": "code",
   "execution_count": 4,
   "id": "10b1f999",
   "metadata": {},
   "outputs": [
    {
     "name": "stdout",
     "output_type": "stream",
     "text": [
      "7\n"
     ]
    }
   ],
   "source": [
    "print(llm.get_num_tokens(\"explain quantum mechanics in one sentence\"))"
   ]
  },
  {
   "cell_type": "code",
   "execution_count": 5,
   "id": "7223d133",
   "metadata": {},
   "outputs": [
    {
     "name": "stdout",
     "output_type": "stream",
     "text": [
      "[[Generation(text='\\n\\nParis.', generation_info={'finish_reason': 'stop', 'logprobs': None})], [Generation(text='\\n\\nThe formula for the area of a circle is A = πr^2, where A is the area, π is pi (3.14159…) and r is the radius of the circle.', generation_info={'finish_reason': 'stop', 'logprobs': None})]]\n"
     ]
    }
   ],
   "source": [
    "output = llm.generate([\"... is the capital of France.\", \"What is the formula of the area of a circle?\"])\n",
    "print(output.generations)"
   ]
  },
  {
   "cell_type": "code",
   "execution_count": 7,
   "id": "e7e4c4c2",
   "metadata": {},
   "outputs": [
    {
     "name": "stdout",
     "output_type": "stream",
     "text": [
      "\n",
      "\n",
      "The formula for the area of a circle is A = πr^2, where A is the area, π is pi (3.14159…) and r is the radius of the circle.\n"
     ]
    }
   ],
   "source": [
    "print(output.generations[1][0].text)"
   ]
  },
  {
   "cell_type": "code",
   "execution_count": 8,
   "id": "c5578a49",
   "metadata": {},
   "outputs": [
    {
     "data": {
      "text/plain": [
       "2"
      ]
     },
     "execution_count": 8,
     "metadata": {},
     "output_type": "execute_result"
    }
   ],
   "source": [
    "len(output.generations)"
   ]
  },
  {
   "cell_type": "code",
   "execution_count": 9,
   "id": "29d50e08",
   "metadata": {},
   "outputs": [
    {
     "name": "stdout",
     "output_type": "stream",
     "text": [
      "generations=[[Generation(text='\\n\\n\"Taste Our Burgers - They\\'ll Make Your Mouth Water!\"', generation_info={'finish_reason': 'stop', 'logprobs': None})], [Generation(text='\\n\\n\"Taste the burger that\\'s out of this world!\"', generation_info={'finish_reason': 'stop', 'logprobs': None})], [Generation(text='\\n\\n\"Burger Bliss: Where Every Bite is a Bite of Heaven!\"', generation_info={'finish_reason': 'stop', 'logprobs': None})]] llm_output={'token_usage': {'total_tokens': 73, 'completion_tokens': 46, 'prompt_tokens': 27}, 'model_name': 'text-davinci-003'} run=[RunInfo(run_id=UUID('912c8ce7-451c-44ee-8880-36ff96864ee9')), RunInfo(run_id=UUID('b189dc4f-9ac0-4b01-9b3a-f63ea5bc188a')), RunInfo(run_id=UUID('6497d6f1-e756-4d76-99f1-3b3729af3501'))]\n"
     ]
    }
   ],
   "source": [
    "output = llm.generate([\"Write an original tagline for a burger restaurant\"]*3)\n",
    "print(output)"
   ]
  },
  {
   "cell_type": "code",
   "execution_count": 11,
   "id": "d26f334b",
   "metadata": {},
   "outputs": [
    {
     "name": "stdout",
     "output_type": "stream",
     "text": [
      "\n",
      "\n",
      "\"Taste Our Burgers - They'll Make Your Mouth Water!\"\n",
      "\n",
      "\"Taste the burger that's out of this world!\"\n",
      "\n",
      "\"Burger Bliss: Where Every Bite is a Bite of Heaven!\""
     ]
    }
   ],
   "source": [
    "for o in output.generations:\n",
    "    print(o[0].text, end=\"\")"
   ]
  },
  {
   "cell_type": "markdown",
   "id": "717d485e",
   "metadata": {},
   "source": [
    "### ChatModels: GPT-3.5 Turbo and GPT-4"
   ]
  },
  {
   "cell_type": "code",
   "execution_count": 5,
   "id": "933c403a",
   "metadata": {},
   "outputs": [],
   "source": [
    "from langchain.schema import(\n",
    "    AIMessage,\n",
    "    HumanMessage,\n",
    "    SystemMessage\n",
    ")\n",
    "from langchain.chat_models import ChatOpenAI"
   ]
  },
  {
   "cell_type": "code",
   "execution_count": 7,
   "id": "3a3ac463",
   "metadata": {},
   "outputs": [],
   "source": [
    "chat = ChatOpenAI(model_name=\"gpt-3.5-turbo\", temperature=0.5, max_tokens=1024)\n",
    "messages = [\n",
    "    SystemMessage(content=\"You are a physicist and respond only in German.\"),\n",
    "    HumanMessage(content=\"explain quantum mechanics in one sentence\")\n",
    "]\n",
    "output = chat(messages)"
   ]
  },
  {
   "cell_type": "code",
   "execution_count": 9,
   "id": "d2e91554",
   "metadata": {},
   "outputs": [
    {
     "name": "stdout",
     "output_type": "stream",
     "text": [
      "Quantenmechanik beschreibt das Verhalten von Teilchen auf subatomarer Ebene, wobei ihre Eigenschaften wie Position und Impuls nur mit Wahrscheinlichkeiten angegeben werden können.\n"
     ]
    }
   ],
   "source": [
    "print(output.content)"
   ]
  },
  {
   "cell_type": "markdown",
   "id": "dde9272f",
   "metadata": {},
   "source": [
    "### Prompt Template"
   ]
  },
  {
   "cell_type": "code",
   "execution_count": 10,
   "id": "0dc1783a",
   "metadata": {},
   "outputs": [],
   "source": [
    "from langchain import PromptTemplate"
   ]
  },
  {
   "cell_type": "code",
   "execution_count": 12,
   "id": "d90f691d",
   "metadata": {},
   "outputs": [
    {
     "name": "stdout",
     "output_type": "stream",
     "text": [
      "input_variables=['language', 'virus'] template='You are an experienced virologist.\\nWrite a few sentences about the following {virus} in {language}.'\n"
     ]
    }
   ],
   "source": [
    "template = '''You are an experienced virologist.\n",
    "Write a few sentences about the following {virus} in {language}.'''\n",
    "\n",
    "prompt = PromptTemplate(\n",
    "    input_variables=[\"virus\",\"language\"],\n",
    "    template=template\n",
    ")\n",
    "print(prompt)"
   ]
  },
  {
   "cell_type": "code",
   "execution_count": 13,
   "id": "29fb4f3a",
   "metadata": {},
   "outputs": [
    {
     "name": "stdout",
     "output_type": "stream",
     "text": [
      "\n",
      "\n",
      "Ebola este o boală virală gravă care poate provoca sângerări interne și externe și poate fi fatală. Se răspândește prin contact direct cu sânge, secreții sau alte fluide corporale sau prin contact cu obiecte infestate. Prevenirea bolii se face prin igiena personală, evitarea contactului cu persoane bolnave și prin vaccinare. Tratamentul bolii constă în tratament simptomatic și de susținere.\n"
     ]
    }
   ],
   "source": [
    "from langchain.llms import OpenAI\n",
    "llm = OpenAI(model_name=\"text-davinci-003\", temperature=0.7)\n",
    "output = llm(prompt.format(virus=\"ebola\", language=\"romanian\"))\n",
    "print(output)"
   ]
  },
  {
   "cell_type": "markdown",
   "id": "ad50af3c",
   "metadata": {},
   "source": [
    "### Simple Chains"
   ]
  },
  {
   "cell_type": "code",
   "execution_count": 14,
   "id": "a1f0d2e6",
   "metadata": {},
   "outputs": [],
   "source": [
    "from langchain.chat_models import ChatOpenAI\n",
    "from langchain import PromptTemplate\n",
    "from langchain.chains import LLMChain\n",
    "\n",
    "llm = ChatOpenAI(model_name=\"gpt-3.5-turbo\", temperature=0.5)\n",
    "template = '''You are an experienced virologist.\n",
    "Write a few sentences about the following {virus} in {language}.'''\n",
    "\n",
    "prompt = PromptTemplate(\n",
    "    input_variables=[\"virus\",\"language\"],\n",
    "    template=template\n",
    ")\n",
    "\n",
    "chain = LLMChain(llm=llm, prompt=prompt)\n",
    "output = chain.run({\"virus\" : \"HSV\", \"language\" : \"french\"})\n",
    "output = chain.run(\"HSV\")"
   ]
  },
  {
   "cell_type": "code",
   "execution_count": 15,
   "id": "ab8081c8",
   "metadata": {},
   "outputs": [
    {
     "name": "stdout",
     "output_type": "stream",
     "text": [
      "L'HSV, ou herpès simplex virus, est un virus couramment rencontré chez les humains. Il existe deux types d'HSV : le HSV-1, qui provoque généralement des lésions buccales telles que les boutons de fièvre, et le HSV-2, qui est principalement associé aux infections génitales. Ces virus se propagent par contact direct avec les lésions ou les sécrétions infectées. Bien que l'herpès soit une infection virale chronique, il peut être géré avec des médicaments antiviraux et des mesures préventives telles que l'utilisation de préservatifs.\n"
     ]
    }
   ],
   "source": [
    "print(output)"
   ]
  },
  {
   "cell_type": "markdown",
   "id": "cbdf8b87",
   "metadata": {},
   "source": [
    "### Sequential Chains"
   ]
  },
  {
   "cell_type": "code",
   "execution_count": 5,
   "id": "cc4fd38a",
   "metadata": {},
   "outputs": [
    {
     "name": "stdout",
     "output_type": "stream",
     "text": [
      "\n",
      "\n",
      "\u001b[1m> Entering new SimpleSequentialChain chain...\u001b[0m\n",
      "\u001b[36;1m\u001b[1;3m\n",
      "\n",
      "def linear_regression(x_data, y_data):\n",
      "    \"\"\"\n",
      "    Implements the concept of linear regression.\n",
      "    Takes in x and y data points as arguments and returns the slope and \n",
      "    intercept of the linear regression line.\n",
      "    \n",
      "    Parameters:\n",
      "    x_data (list): x-coordinates\n",
      "    y_data (list): y-coordinates\n",
      "    \n",
      "    Returns:\n",
      "    slope (float): slope of the linear\u001b[0m\n",
      "\u001b[33;1m\u001b[1;3mThe Python function `linear_regression` takes in two lists `x_data` and `y_data` as arguments which represent the x and y coordinates respectively. It implements the concept of linear regression to calculate the slope and intercept of the linear regression line that best fits the given data points.\n",
      "\n",
      "The linear regression line represents the best fitting straight line that minimizes the average distance between the line and the data points. The slope of the linear regression line represents the rate of change of the dependent variable (y) with respect to the independent variable (x). It indicates how much the dependent variable is expected to change for a one unit change in the independent variable.\n",
      "\n",
      "The slope is calculated using the formula:\n",
      "\n",
      "slope = ((N * sum(x * y)) - (sum(x) * sum(y))) / ((N * sum(x^2)) - (sum(x)^2))\n",
      "\n",
      "where N is the number of data points.\n",
      "\n",
      "The function returns the calculated slope as a float value.\u001b[0m\n",
      "\n",
      "\u001b[1m> Finished chain.\u001b[0m\n"
     ]
    }
   ],
   "source": [
    "from langchain.chat_models import ChatOpenAI\n",
    "from langchain.llms import OpenAI\n",
    "from langchain import PromptTemplate\n",
    "from langchain.chains import LLMChain, SimpleSequentialChain\n",
    "\n",
    "llm1 = OpenAI(model_name=\"text-davinci-003\", temperature=0.7, max_tokens=102)\n",
    "prompt1 = PromptTemplate(\n",
    "    input_variables=[\"concept\"],\n",
    "    template='''You are an experienced scientist and Python programmer.\n",
    "    Write a function that implements the concept of {concept}.'''\n",
    ")\n",
    "chain1 = LLMChain(llm=llm1, prompt=prompt1)\n",
    "\n",
    "llm2 = ChatOpenAI(model_name=\"gpt-3.5-turbo\", temperature=1.2)\n",
    "prompt2 = PromptTemplate(\n",
    "    input_variables=[\"function\"],\n",
    "    template=\"Given the Python {function}, describe it as detailed as possible.\"\n",
    ")\n",
    "chain2 = LLMChain(llm=llm2, prompt=prompt2)\n",
    "\n",
    "overall_chain = SimpleSequentialChain(chains=[chain1, chain2], verbose=True)\n",
    "output = overall_chain.run(\"linear regression\")"
   ]
  },
  {
   "cell_type": "markdown",
   "id": "9dd4d827",
   "metadata": {},
   "source": [
    "### LangChain Agents"
   ]
  },
  {
   "cell_type": "code",
   "execution_count": 6,
   "id": "8c54beba",
   "metadata": {},
   "outputs": [
    {
     "name": "stdout",
     "output_type": "stream",
     "text": [
      "Requirement already satisfied: langchain_experimental in c:\\users\\germa\\anaconda3\\lib\\site-packages (0.0.36)\n",
      "Requirement already satisfied: langchain>=0.0.308 in c:\\users\\germa\\anaconda3\\lib\\site-packages (from langchain_experimental) (0.0.325)\n",
      "Requirement already satisfied: PyYAML>=5.3 in c:\\users\\germa\\anaconda3\\lib\\site-packages (from langchain>=0.0.308->langchain_experimental) (6.0)\n",
      "Requirement already satisfied: SQLAlchemy<3,>=1.4 in c:\\users\\germa\\anaconda3\\lib\\site-packages (from langchain>=0.0.308->langchain_experimental) (1.4.39)\n",
      "Requirement already satisfied: aiohttp<4.0.0,>=3.8.3 in c:\\users\\germa\\anaconda3\\lib\\site-packages (from langchain>=0.0.308->langchain_experimental) (3.8.5)\n",
      "Requirement already satisfied: anyio<4.0 in c:\\users\\germa\\anaconda3\\lib\\site-packages (from langchain>=0.0.308->langchain_experimental) (3.5.0)\n",
      "Requirement already satisfied: dataclasses-json<0.7,>=0.5.7 in c:\\users\\germa\\anaconda3\\lib\\site-packages (from langchain>=0.0.308->langchain_experimental) (0.6.1)\n",
      "Requirement already satisfied: jsonpatch<2.0,>=1.33 in c:\\users\\germa\\anaconda3\\lib\\site-packages (from langchain>=0.0.308->langchain_experimental) (1.33)\n",
      "Requirement already satisfied: langsmith<0.1.0,>=0.0.52 in c:\\users\\germa\\anaconda3\\lib\\site-packages (from langchain>=0.0.308->langchain_experimental) (0.0.53)\n",
      "Requirement already satisfied: numpy<2,>=1 in c:\\users\\germa\\anaconda3\\lib\\site-packages (from langchain>=0.0.308->langchain_experimental) (1.24.3)\n",
      "Requirement already satisfied: pydantic<3,>=1 in c:\\users\\germa\\anaconda3\\lib\\site-packages (from langchain>=0.0.308->langchain_experimental) (1.10.8)\n",
      "Requirement already satisfied: requests<3,>=2 in c:\\users\\germa\\anaconda3\\lib\\site-packages (from langchain>=0.0.308->langchain_experimental) (2.31.0)\n",
      "Requirement already satisfied: tenacity<9.0.0,>=8.1.0 in c:\\users\\germa\\anaconda3\\lib\\site-packages (from langchain>=0.0.308->langchain_experimental) (8.2.2)\n",
      "Requirement already satisfied: attrs>=17.3.0 in c:\\users\\germa\\anaconda3\\lib\\site-packages (from aiohttp<4.0.0,>=3.8.3->langchain>=0.0.308->langchain_experimental) (22.1.0)\n",
      "Requirement already satisfied: charset-normalizer<4.0,>=2.0 in c:\\users\\germa\\anaconda3\\lib\\site-packages (from aiohttp<4.0.0,>=3.8.3->langchain>=0.0.308->langchain_experimental) (2.0.4)\n",
      "Requirement already satisfied: multidict<7.0,>=4.5 in c:\\users\\germa\\anaconda3\\lib\\site-packages (from aiohttp<4.0.0,>=3.8.3->langchain>=0.0.308->langchain_experimental) (6.0.2)\n",
      "Requirement already satisfied: async-timeout<5.0,>=4.0.0a3 in c:\\users\\germa\\anaconda3\\lib\\site-packages (from aiohttp<4.0.0,>=3.8.3->langchain>=0.0.308->langchain_experimental) (4.0.2)\n",
      "Requirement already satisfied: yarl<2.0,>=1.0 in c:\\users\\germa\\anaconda3\\lib\\site-packages (from aiohttp<4.0.0,>=3.8.3->langchain>=0.0.308->langchain_experimental) (1.8.1)\n",
      "Requirement already satisfied: frozenlist>=1.1.1 in c:\\users\\germa\\anaconda3\\lib\\site-packages (from aiohttp<4.0.0,>=3.8.3->langchain>=0.0.308->langchain_experimental) (1.3.3)\n",
      "Requirement already satisfied: aiosignal>=1.1.2 in c:\\users\\germa\\anaconda3\\lib\\site-packages (from aiohttp<4.0.0,>=3.8.3->langchain>=0.0.308->langchain_experimental) (1.2.0)\n",
      "Requirement already satisfied: idna>=2.8 in c:\\users\\germa\\anaconda3\\lib\\site-packages (from anyio<4.0->langchain>=0.0.308->langchain_experimental) (3.4)\n",
      "Requirement already satisfied: sniffio>=1.1 in c:\\users\\germa\\anaconda3\\lib\\site-packages (from anyio<4.0->langchain>=0.0.308->langchain_experimental) (1.2.0)\n",
      "Requirement already satisfied: marshmallow<4.0.0,>=3.18.0 in c:\\users\\germa\\anaconda3\\lib\\site-packages (from dataclasses-json<0.7,>=0.5.7->langchain>=0.0.308->langchain_experimental) (3.20.1)\n",
      "Requirement already satisfied: typing-inspect<1,>=0.4.0 in c:\\users\\germa\\anaconda3\\lib\\site-packages (from dataclasses-json<0.7,>=0.5.7->langchain>=0.0.308->langchain_experimental) (0.9.0)\n",
      "Requirement already satisfied: jsonpointer>=1.9 in c:\\users\\germa\\anaconda3\\lib\\site-packages (from jsonpatch<2.0,>=1.33->langchain>=0.0.308->langchain_experimental) (2.1)\n",
      "Requirement already satisfied: typing-extensions>=4.2.0 in c:\\users\\germa\\anaconda3\\lib\\site-packages (from pydantic<3,>=1->langchain>=0.0.308->langchain_experimental) (4.7.1)\n",
      "Requirement already satisfied: urllib3<3,>=1.21.1 in c:\\users\\germa\\anaconda3\\lib\\site-packages (from requests<3,>=2->langchain>=0.0.308->langchain_experimental) (1.26.16)\n",
      "Requirement already satisfied: certifi>=2017.4.17 in c:\\users\\germa\\anaconda3\\lib\\site-packages (from requests<3,>=2->langchain>=0.0.308->langchain_experimental) (2023.7.22)\n",
      "Requirement already satisfied: greenlet!=0.4.17 in c:\\users\\germa\\anaconda3\\lib\\site-packages (from SQLAlchemy<3,>=1.4->langchain>=0.0.308->langchain_experimental) (2.0.1)\n",
      "Requirement already satisfied: packaging>=17.0 in c:\\users\\germa\\anaconda3\\lib\\site-packages (from marshmallow<4.0.0,>=3.18.0->dataclasses-json<0.7,>=0.5.7->langchain>=0.0.308->langchain_experimental) (23.1)\n",
      "Requirement already satisfied: mypy-extensions>=0.3.0 in c:\\users\\germa\\anaconda3\\lib\\site-packages (from typing-inspect<1,>=0.4.0->dataclasses-json<0.7,>=0.5.7->langchain>=0.0.308->langchain_experimental) (1.0.0)\n"
     ]
    }
   ],
   "source": [
    "!pip install langchain_experimental\n",
    "# This only in case there's some problem with langchain and you need to use the experimental!"
   ]
  },
  {
   "cell_type": "code",
   "execution_count": 8,
   "id": "f5d286ac",
   "metadata": {},
   "outputs": [],
   "source": [
    "# I used the experimental only because there was some error to be corrected with langchain!\n",
    "from langchain_experimental.agents.agent_toolkits import create_python_agent\n",
    "# from langchain.agents.agent_toolkits import create_python_agent\n",
    "from langchain_experimental.tools.python.tool import PythonREPLTool\n",
    "# from langchain.tools.python.tool import PythonREPLTool\n",
    "from langchain.llms import OpenAI"
   ]
  },
  {
   "cell_type": "code",
   "execution_count": 9,
   "id": "ca13f5e6",
   "metadata": {},
   "outputs": [
    {
     "name": "stdout",
     "output_type": "stream",
     "text": [
      "\n",
      "\n",
      "\u001b[1m> Entering new AgentExecutor chain...\u001b[0m\n"
     ]
    },
    {
     "name": "stderr",
     "output_type": "stream",
     "text": [
      "Python REPL can execute arbitrary code. Use with caution.\n"
     ]
    },
    {
     "name": "stdout",
     "output_type": "stream",
     "text": [
      "\u001b[32;1m\u001b[1;3m I need to calculate the factorial of 20 and then take the square root of that\n",
      "Action: Python_REPL\n",
      "Action Input: from math import factorial; print(round(factorial(20)**0.5, 4))\u001b[0m\n",
      "Observation: \u001b[36;1m\u001b[1;3m1559776268.6285\n",
      "\u001b[0m\n",
      "Thought:\u001b[32;1m\u001b[1;3m I now know the final answer\n",
      "Final Answer: 1559776268.6285\u001b[0m\n",
      "\n",
      "\u001b[1m> Finished chain.\u001b[0m\n"
     ]
    },
    {
     "data": {
      "text/plain": [
       "'1559776268.6285'"
      ]
     },
     "execution_count": 9,
     "metadata": {},
     "output_type": "execute_result"
    }
   ],
   "source": [
    "llm = OpenAI(temperature=0)\n",
    "agent_executor = create_python_agent(\n",
    "    llm = llm,\n",
    "    tool = PythonREPLTool(),\n",
    "    verbose = True\n",
    ")\n",
    "agent_executor.run(\"Calculate the square root of the factorial of 20 \\\n",
    "and display it with 4 decimal points\")"
   ]
  },
  {
   "cell_type": "markdown",
   "id": "42af68d0",
   "metadata": {},
   "source": [
    "### Splitting and Embedding Text using LangChain"
   ]
  },
  {
   "cell_type": "code",
   "execution_count": 21,
   "id": "ea9eaa1b",
   "metadata": {},
   "outputs": [
    {
     "data": {
      "text/plain": [
       "True"
      ]
     },
     "execution_count": 21,
     "metadata": {},
     "output_type": "execute_result"
    }
   ],
   "source": [
    "import os\n",
    "from dotenv import load_dotenv, find_dotenv\n",
    "load_dotenv(find_dotenv(), override=True)"
   ]
  },
  {
   "cell_type": "code",
   "execution_count": 22,
   "id": "776c4ef7",
   "metadata": {},
   "outputs": [],
   "source": [
    "from langchain.text_splitter import RecursiveCharacterTextSplitter\n",
    "with open(\"files/churchill_speech.txt\") as f:\n",
    "    churchill_speech = f.read()\n",
    "    \n",
    "text_splitter = RecursiveCharacterTextSplitter(\n",
    "    chunk_size = 100,\n",
    "    chunk_overlap = 20,\n",
    "    length_function = len\n",
    ")"
   ]
  },
  {
   "cell_type": "code",
   "execution_count": 23,
   "id": "de1dbbdb",
   "metadata": {},
   "outputs": [
    {
     "name": "stdout",
     "output_type": "stream",
     "text": [
      "page_content='Winston Churchill Speech - We Shall Fight on the Beaches\\nWe Shall Fight on the Beaches\\nJune 4, 1940'\n",
      "Winston Churchill Speech - We Shall Fight on the Beaches\n",
      "We Shall Fight on the Beaches\n",
      "June 4, 1940\n",
      "Now you have 300\n"
     ]
    }
   ],
   "source": [
    "chunks = text_splitter.create_documents([churchill_speech])\n",
    "print(chunks[0])\n",
    "print(chunks[0].page_content)\n",
    "print(f\"Now you have {len(chunks)}\")"
   ]
  },
  {
   "cell_type": "markdown",
   "id": "4131ac4a",
   "metadata": {},
   "source": [
    "#### Embedding Cost"
   ]
  },
  {
   "cell_type": "code",
   "execution_count": 24,
   "id": "2a38cdee",
   "metadata": {},
   "outputs": [
    {
     "name": "stdout",
     "output_type": "stream",
     "text": [
      "Total tokens: 4820\n",
      "Embedding Cost in USD: 0.001928\n"
     ]
    }
   ],
   "source": [
    "def print_embedding_cost(texts):\n",
    "    import tiktoken\n",
    "    enc = tiktoken.encoding_for_model(\"text-embedding-ada-002\")\n",
    "    total_tokens = sum([len(enc.encode(page.page_content)) for page in texts])\n",
    "    print(f\"Total tokens: {total_tokens}\")\n",
    "    print(f\"Embedding Cost in USD: {total_tokens / 1000 * 0.0004:.6f}\")\n",
    "    \n",
    "print_embedding_cost(chunks)"
   ]
  },
  {
   "cell_type": "code",
   "execution_count": 32,
   "id": "c72e4a1e",
   "metadata": {},
   "outputs": [],
   "source": [
    "from langchain.embeddings import OpenAIEmbeddings\n",
    "embeddings = OpenAIEmbeddings()"
   ]
  },
  {
   "cell_type": "code",
   "execution_count": 33,
   "id": "84713ca3",
   "metadata": {},
   "outputs": [
    {
     "name": "stdout",
     "output_type": "stream",
     "text": [
      "[-0.04451710436383128, -0.037782137013891874, -0.0029513307899337103, -0.007985016471202087, 0.015740432121409912, 0.022590198019201264, -0.02847053719354729, -0.009732536211038392, 0.0010858219074641557, 0.007200545757708229, 0.007908482243322272, 0.03278193680355078, 0.007379124536218109, -0.011779812371323297, 0.00632997473634152, -0.005379681569866144, 0.013240330153594179, -0.0025399623418781224, 0.013533709808262486, -0.010957075475212122, -0.008093439184596334, -0.026761284567650895, 0.02959303237275225, -0.0037979849815033004, -0.014401091515416457, -0.01849564383598627, 0.010784873928143831, -0.01869973386856899, 0.0030884538387828874, -0.014350069007270776, 0.007111256601283936, -0.008603663334730543, -0.01650576881227252, 0.005162836143077651, -0.018368088031283366, -0.023929536762549535, -0.022424374169235862, -0.008737597767858925, 0.022577442624995493, -0.0127619944889744, 0.01359748771061394, 0.004725955975287927, 0.008750353162064697, 0.002921036263033706, -0.02801133555155876, 0.022284062970327184, 0.020562054950225016, -0.009860092015741296, -0.01594452215399263, 0.04421096745231202, 0.01380157774319666, 0.019171692767408474, -0.018725246519625715, -0.03788418389282842, -0.016850170043763917, 0.009030976491204643, -0.021761082494664612, 0.019720184031482593, -0.0063204081906871904, -0.022067217543538693, -0.004308209830129453, -0.00983458029600716, -0.011409899420097765, -0.011409899420097765, -0.0014716793342775514, -0.009930247615195634, -0.03403198778745864, 0.033929940908522103, -0.0011424249005748612, 0.011027231074666459, 0.03216966670580262, 0.02734804387698751, 0.004413443694972256, 0.011594856361371827, 0.014681714844556402, -0.011365254609054971, -0.01966916059201432, -0.016977725848466824, 0.00410093094899529, 0.011856345667880522, 0.018559422669660312, -0.017118038910020682, 0.0010475550263548956, 0.010542517712943796, 0.03005223401474078, 0.00532547021316902, 0.00845697443871898, 0.026659239551359532, 0.0027775355170816425, -0.02302388887277825, -0.010083315139632674, -0.00011569743422329607, 0.005172402688731981, 0.004984257364567771, -0.012736483700562856, 0.020919211575922185, -0.01567665328773587, 0.026608217974536445, 0.017181815881049542, -0.024784163075497734, 0.027118441193348063, 0.005338225607374793, -0.015089894909721843, -0.007659747865358053, -0.011199431690412159, -0.001242078164037315, -0.014324558218859232, -0.0075194362007880815, -0.006486231109330003, -0.00669669883901561, -0.014732737352702082, 0.011033608771769347, 0.014145978974688056, -0.038598497144222754, 0.0006911949725113057, -0.04275683016111179, -0.00420297596528665, -0.013042618749436935, 0.014337313613065004, -0.03566470432283004, 0.010599917918192361, -0.0014613153436547138, 0.0176282621288323, -0.005232991742531989, 0.0033068936898471017, 0.015931764897141678, -0.02103401198641932, -0.014911316596873258, 0.019796718259362408, 0.015166429137601658, 0.035562661169183864, 0.027934801323678943, 0.030332858275203316, -0.03854747556739967, -0.022909088462281117, 0.027143953844404788, -0.017806841373003476, 0.007589592265903715, -0.011378010003260743, -7.912468711465209e-05, 0.012334681332500302, 0.03997610207018835, -0.014796516186376125, -0.013929133547899564, -0.00022681081134239985, 0.023215223511155198, 0.02887871725871273, 0.008463352135821866, 0.0032431155546650014, -0.00988560280415284, 0.009330733842975837, -0.006747721347161289, 0.020460009933933657, -0.0008259262103239147, 0.02297286543330998, 0.013418909397765355, -0.013520954414056714, 0.026582705323479717, -0.013100018954685502, -0.0006696698955430934, 0.0403332605585307, 0.03020530060785523, 0.03051143565672931, 0.010982586263623665, 0.04176189078660974, 0.013253086479122543, 0.024108116006720713, 0.008737597767858925, -0.010931563755477986, 0.025842879421028652, 0.012321925938294528, 0.010829518739186625, -0.007889349152013614, 0.0029561142955915228, -0.002975247619730829, 0.03433812097368754, 0.022488153002909905, -0.0028556637035758842, -0.0029019029388943998, -0.003571572776229831, -0.031710465063814086, 0.017436929353100535, 0.01608483335290131, 0.0006409697347111483, -0.013571976922202394, 0.016480258023860977, 0.0053988151268360976, 0.00426356501908666, 0.016582303040152336, -0.013686777332699527, 0.0036130285058905342, 0.017105281653169727, 0.019465072422076783, -0.007168656806532502, -0.6616593715431087, -0.02103401198641932, 0.0012715755952147827, -0.011429032511406423, 0.01736039512522072, 0.010223627269863943, 0.002409217222962479, 0.004218920208043865, -0.016148610323930168, 0.009649624286055689, -0.009840958924432637, 0.0077681705787523, 0.0018049198286695456, -0.01639096840177539, -0.007175034503635388, -0.022602953413407036, -0.005535937942854627, -0.006970944936713964, 0.02047276532813943, 0.0035588171491934112, 0.0078957268491165, 0.022233041393504096, -0.006805121552409856, 0.014311801893330868, 0.012156103019651716, -0.007474791389745287, -0.003574761624781274, -0.03484834419249916, -0.017538974369391894, 0.01063180640370679, -0.03635350678581283, 0.018457377653368953, 0.0074301470443637885, 0.001714036015138884, 0.03196557667321989, -0.024133626795132257, -0.025817368632617108, 0.006632920936664157, 0.013125529743097046, 0.011027231074666459, 0.013508198088528352, -0.01646750076701002, 0.011097386674120798, 0.001957987236691262, -0.01951609399889987, 0.02404433903569185, 0.016990481242672596, -0.014643448661939085, -0.0007382313617600199, -0.006996455725125509, -0.004652611527282146, -0.012589793873228701, 0.022398863380824318, 0.022500908397115677, 0.0038649519652368437, -0.006703076536118496, 0.011684145052134824, -0.025485722795331484, -0.0004823217835167447, 0.009726157582612914, -0.008157217086947787, 0.012156103019651716, -0.029057296502883904, -0.019158937373202702, -0.01184359027367475, -0.00042452288488775523, -0.028598092998250193, 0.011907368176026202, 0.0336238077222932, 0.001967554015176239, -0.007353613282145268, 0.018661467685951675, -0.014668959450350629, -0.013520954414056714, 0.007902104546219386, 0.003510983489599174, 0.013482687300116807, -0.014388336121210685, -0.002512856663529561, -0.021671792872579025, 0.0018431867097788055, -0.01880177888486035, -0.02271775382390417, 0.02126361280741358, 0.02635310450248545, -0.01625065534022153, -0.01773030714512366, 0.002930603041518683, 0.011773434674220411, -0.0055072378402303435, 0.0186487122917459, 0.03574124041335504, 0.011358876911952085, -0.011218564781720817, -0.0064256420555299934, 0.01194563528996611, 0.013929133547899564, -0.0016000327003642884, 0.010045048025692766, -0.01608483335290131, 0.0022162883931404575, 0.0067158323959855635, 0.0026531683280995332, 0.007379124536218109, 0.005481726586157504, -0.002211505120313293, -0.01538327456439015, 0.01640372379598116, 0.00983458029600716, -0.010708340631586608, 0.013941889873427928, 0.007347235585042382, -0.02394229401940049, 0.01853391188124877, 0.01265994947268304, -0.020090096051385533, 0.008743975464961811, 0.023827491746258176, -0.0028556637035758842, -0.01003867032858988, 0.010344805377463961, -0.01649301341806675, 0.008948065497544531, -0.03510345952719533, 0.011639500241092029, 0.02887871725871273, 0.011888235084717544, -0.006888033011731262, 0.01900586891744307, 0.012959706824454234, 0.006792366158204084, 0.0065117423634028435, 0.022845309628607074, 0.007557703314727989, 0.013329619775679766, 0.014235268596773645, 0.012755616791871514, -0.007194168060605343, 0.015600119991178643, -0.02635310450248545, -0.023100423100658067, 0.015574608271444508, -0.0011719223317523289, 0.002844502500815186, -0.018074710239260237, -0.025613278600034387, -0.024809675726554462, -0.038624007932634305, -0.030001210575272507, 0.014311801893330868, 0.02252641918552722, -0.017972665222968878, -0.014885804877139122, -0.018049197588203513, 0.0015721298098778662, -0.0005580582171820801, -0.006278952693857135, -0.008622797357361793, 0.0024698062767624885, -0.04217007085177518, 0.007072989487344028, 0.003235143433286394, -0.02276877726337244, 0.0045888331592693985, 0.015523585763298826, 0.017589995946214982, -0.00037768585688116807, 0.03785867310441687, 0.005567826894030353, -0.027960312112090487, 0.010542517712943796, -0.005653927201903202, -0.00011270783777461401, 0.03117472733130056, 0.003247899060322814, 0.005166024991629094, -0.01736039512522072, -0.023151444677481155, 0.03247579989203151, 0.004949179564840602, -0.0020393042717369468, -0.019222714344231562, -0.010440472696652435, -0.015816964486644543, 0.005054413429683405, -0.015816964486644543, 0.031480864242819824, -0.006253441439784295, -0.015816964486644543, 0.0065244982232699105, 0.0024825619037989084, -0.0025479344632567302, 0.0037979849815033004, 0.007685259119430894, 0.0012891144950783675, 0.014464869417767909, -0.01965640519780855, 0.0021461325608554713, 0.016033809913433037, 0.0163016787796898, 0.006785988461101197, 0.010816763344980853, 0.027118441193348063, -0.00940726713953306, 0.03699128767197254, -0.014222513202567871, 0.0026228738011995286, -0.02691435116076534, 0.05530835412643281, 0.010421338674021185, 0.0020743823042947635, -0.009911114523886976, -0.04390483426608312, -0.002069598798636951, -0.0020520598987733667, 0.016952215060055276, -0.0019356648311698648, -0.00667118758494277, -0.004241242613565263, -0.005363736861447633, 0.000857018007569442, 0.0076278589141823274, -0.012034924912051697, 0.006856144060555536, -0.04413443508707739, 0.028955251486592545, -0.008756730859167583, -0.004627100273209306, -0.006683943444809837, -0.0014429792316532682, 0.002256149698525439, -0.011186676296206385, 0.008992710308587325, 0.007704392676400848, 0.00566668306177027, 0.005465781877738993, 0.004614344413342238, -0.025409188567451668, 0.04061388295634805, -0.012806639300017193, 0.028445026405135743, 0.008214617292196353, 0.008807753367313265, -0.01354646520246826, 0.0015043656140064621, -0.008272017497444918, 0.022998378084366704, 0.0019149369663395133, -0.01649301341806675, 0.014503136531707816, -0.0064096973471114834, 0.005567826894030353, -0.017819596767209248, -0.0033834274520656215, 0.004336909932753736, -0.0007753023664548269, -0.004971501970361999, 0.0005245747253153086, 0.01608483335290131, 0.033700340087527834, 0.002592579274299524, 0.004888590045379297, 0.0332411384455393, 0.002417189344341087, -0.003142665195480011, -0.004834378688682174, 0.0019292871340669789, 0.02704190882811343, -0.012411215560380117, -0.027450087030633688, -0.013622999430348075, -0.006371430698832871, 0.011448166534037673, -0.01869973386856899, 0.00868019756261036, 0.007691637282195075, 0.03250131068044306, 0.003523739116635594, -0.006489419957881446, 0.02949098735646089, -0.015625631710912778, -0.033929940908522103, -0.0004580063767545268, 0.03678720136468018, -0.02117432504797318, -0.013431664791971127, -0.01174154525738339, 0.01843186686495741, -0.009298844426138816, -0.0009104321521287044, 0.004633477970312192, 0.03046041407990622, -0.019962540246682627, -0.019439559771020055, -0.017704796356712117, -0.014273535710713553, 0.02118708044217895, -0.01965640519780855, -0.007359990979248155, -0.020613076527048104, -0.0009901548211063294, 0.009917492220989862, 0.006639298633767043, -0.01031291596062694, 0.018559422669660312, 0.005073546520992064, -0.02011560870244226, 0.0001729980607142071, 0.011397144025891993, -0.00399888593270393, 0.019898763275653767, -0.0005592540935965332, -0.01461793694220495, 0.00407541969492245, 0.002583012495814547, 0.0018272421177756187, -0.01784510755562079, -0.015204695320218975, 0.01891657929535748, 0.002592579274299524, -0.0012428754925904997, -0.025995947876788283, -0.02292184385648689, -0.016977725848466824, 0.12327028282241356, 0.01146729962534633, 0.008559019455010341, 0.002111054528297654, 0.029924678210037876, 0.010701962934483722, -0.015459807860947375, -0.007353613282145268, 0.008425085021881959, 0.004222109056595308, -0.004384743592347974, 0.008488862924233412, -0.003453583284350608, -0.00425399847343233, -0.011665011960826165, -0.011224943410146295, -0.02349584590897255, 0.0019085591528213033, -0.008482485227130526, -0.006065296115620086, -0.01044685039375532, 0.02047276532813943, -0.007914859940425158, 0.009949381637826884, -0.011607611755577599, -0.02959303237275225, 0.010733851419998152, 0.019783962865156636, 0.009585846383704237, 0.0062024189316386156, -0.0006660823827150579, 0.00968151370289271, 0.010784873928143831, 0.006492609272094185, 0.008029661282244882, 0.009566712361072987, -0.014936827385284802, 0.016135854929724396, 0.017411416702043808, -0.023138689283275383, -0.02984814398215806, -0.025039276547548724, -0.003539683825054105, -0.02130188085267608, 0.018623201503334356, 0.007264324125720976, 0.0025001010364931408, 0.029822633193746517, -0.023470335120561008, -0.001302667334252648, 0.012334681332500302, 0.011039986468872233, -0.015140917417867522, -0.01965640519780855, -0.03834338553481695, 0.029516498144872436, 0.01380157774319666, 0.04436403590807165, 0.01567665328773587, 0.010542517712943796, -0.02255193183658395, -0.021569747856287663, -0.013431664791971127, -0.006403319650008597, -0.006632920936664157, -0.004646233364517964, -0.023725448592611997, -0.02011560870244226, -0.00868019756261036, -0.01722008392631204, -0.012959706824454234, -0.0030087312280129242, -0.0067094546988826775, 0.010102449162263924, 0.030536946445140854, -0.013380642283825447, 0.007474791389745287, -0.01441384690962223, -0.011703279074766072, -0.013839844857136567, -0.022488153002909905, -0.011907368176026202, -0.03561368274600695, -0.03199108746163144, -0.008743975464961811, 0.02903178385182718, 0.004961934959046374, -0.022488153002909905, -0.010644562729235155, 0.04051183980270187, 0.0014724765464154122, 0.01111014206832657, 0.0037246400678362236, -0.004308209830129453, 0.005446648320769039, -0.002303983358119676, 0.0018686978474363217, -0.004649422213069408, -0.01359748771061394, 0.02241161877503009, 0.013967400661839472, -0.03591981593223585, -0.01646750076701002, -0.013508198088528352, -0.00888428759519308, 0.003944674576006807, 0.0033547273494413388, 0.015510830369093054, -0.024949986925463137, -0.002708974109072378, 0.01767928556830057, -0.014350069007270776, 0.010708340631586608, 0.017653774779889025, -0.013571976922202394, 0.03316460608030467, 0.013406153072236991, 0.020039074474562445, -0.006747721347161289, 0.010497872901901, 0.021314636246881853, -0.019949784852476855, 0.01650576881227252, -0.009777180090758593, -0.02144219205158476, 0.01533225205624447, -0.016429234584392705, -0.03255233598255651, -0.02031969873502498, -0.013878111039753884, -0.011052741863078005, 0.00027285062721112624, 0.004059474986503939, -0.010504250599003886, -0.01604656717028399, 0.00804879437355354, -0.001926098169100212, -0.0003258661657014582, -0.014694471170084765, -0.02149321549105303, -0.011275965918291974, 0.002634035003960227, -0.013508198088528352, -0.01884004693012285, -0.003297326911362125, -0.024784163075497734, 0.0020951100527097912, -0.017092526258963955, 0.014337313613065004, 0.0072196793146781825, -0.011900990478923316, 0.0077299039304736875, -0.0001648264907819794, 0.030792059917191843, -0.011977524706803131, -0.02908280729129545, -0.02459283029976597, 0.024669362665000603, 0.020676855360722148, 0.04497630600581981, -0.007251568265853908, 0.009732536211038392, 0.01072109602579238, 0.007557703314727989, 0.0030565646547765137, -0.03051143565672931, 0.0009431184318576152, -0.010714718328689494, -0.026608217974536445, -0.021722816312047293, 0.03035836906361486, 0.008635552751567565, 0.012806639300017193, 0.009184044015641683, 0.014235268596773645, 0.0066074096825913175, 0.005076735369543507, 0.0077681705787523, -0.009317978448770064, -0.01568940868194164, -0.01951609399889987, -0.018610446109128584, -0.00893531010333876, -0.00873122007075604, -0.0006987686624439687, -0.026327593714073907, 0.03724640300666871, 0.008986332611484439, -0.0032718158901199326, -0.007965882448570839, 0.010249138058275487, 0.0041615200027953, 0.004129631051619573, 0.0003069320281812934, -0.021761082494664612, -0.012239014944634419, -0.01987325062459704, -0.010332049983258188, -0.016021054519227265, 0.0102427603611726, 0.032144155917391073, 0.006049351407201575, 0.0007226854340334253, 0.005481726586157504, 0.006690321141912724, 0.021505970885258803, -0.012239014944634419, 0.007060234093138256, -0.0066137873796942035, -0.009260578243521498, -0.013406153072236991, -0.0056985720129459965, 0.0062151743258443875, -0.04211904927495209, 0.011441788836934787, 0.005829317131861639, -0.0005018538301403052, -0.0005253719956608313, 0.01829155566604873, -0.012392081537748867, 0.011161164576472251, -0.01209870281440315, -0.0010116798980745417, -0.010306538263524052, 0.029669564737986882, 0.021097790820093363, 0.01410771279207074, -0.02928689732387817, 0.027526621258513503, 0.012921439710514326, 0.002474589782420301, 0.03015427903103214, 0.007589592265903715, 0.011926502198657452, 0.008367684816633393, -0.028496047981958834, 0.04436403590807165, 0.0030087312280129242, -0.013699532726905298, 0.02400607099042935, 0.030843081494014934, -0.007315346168205361, -0.006939055519876942, -0.019796718259362408, -0.03130228499864864, 0.03655759681839556, -0.0332921600223624, -0.016544034994889836, -0.018176753392906416, -0.019426804376814284, -0.0189931135232373, -0.007442902438569561, -0.029261384672821442, 0.015115406629455978, 0.013712288121111072, 0.006747721347161289, -0.009847336621535523, -0.004231676067910933, 0.005137324889004811, 0.008476107530027638, -0.0139546452676337, 0.008036038979347768, -0.03515448110401842, -0.029312408112289714, 0.030741036477723575, 0.01010882685936681, 0.001312234112737625, -0.007787304135722254, 0.015485318649358919, 0.021123301608504907, -0.024529051466091925, -0.01776857519038616, -0.01528122954809879, 0.010402205582712527, 0.009330733842975837, -0.015140917417867522, 0.006164151817698707, 0.0005030496483470963, 0.0025511233118081732, 0.0022290440201768774, 0.007646992471152281, 0.022807043445989758, -0.003128315144167869, -0.026455149518776814, 0.00868019756261036, -0.0038171183056426067, 0.012532393667980136, 0.0034057498575870188, -0.017385905913632264, -0.02173557170625307, -0.026608217974536445, 0.0026754907336209305, -0.019745694819894136, 0.028955251486592545, 0.0029593031441429657, 0.005315903201853395, -0.008590907940524771, 0.0379862270464746, -0.02598319248258251, 0.00804879437355354, 0.022041706755127146, 0.006049351407201575, -0.0011567750683023265, 0.014069445678130833, 0.005370114558550519, -0.014056690283925059, 0.01639096840177539, -0.02363615897052641, -0.027985822900502035, -0.011524699830594898, -0.008648308145773338, 0.014056690283925059, -0.001367242681572609, -0.019312003966317152, 0.015000605287636254, 0.017181815881049542, 0.016072077958695537, 0.004910912450900694, -0.027118441193348063, 0.006562764871548523, 0.021123301608504907, -0.0015250934788368137, 0.01783235216141502, -0.025090298124371815, 0.03056245909619758, 0.008144461692742013, 0.0014940016233836245, 0.018215021438168916, 0.008469729832924752, -0.004821623294476401, 0.02307491044960134, -0.005341414455926236, 0.011390766328789107, -0.02293459925069266, -0.017232839320517813, -0.015816964486644543, -0.0011384388398855572, 0.0065213093747184675, 0.024529051466091925, 0.015421540747007467, -0.0032016598250042983, 0.018482888441780497, 0.02154423706787612, -0.02281979884019553, -0.005468970726290436, -0.020306941478174027, -0.011008097983357801, 0.017373150519426492, -0.023266245087978286, -0.013100018954685502, 0.012551526759288794, 0.039797526551307534, 0.0072133016175752965, 0.018763512702243034, -0.02214375177141851, 0.0071176342983868225, -0.013533709808262486, 0.007506680806582309, -0.011346121517746312, -0.003925541019036853, 0.029159341519175264, 0.008871531269664716, 0.017704796356712117, 0.017245594714723585, -0.011039986468872233, 0.003504605792496288, 0.004515488245602321, -0.016595058434358108, 0.0005592540935965332, -0.020944722364333732, -0.018202266043963144, 0.02006458526297399, -0.024108116006720713, 0.019783962865156636, 0.022335084547150275, 0.013291352661739858, -0.008214617292196353, 0.012315548241191642, -0.005960062250777283, -0.0055136155373332295, -0.002924225111585149, -0.031404328152294825, -0.006250252125571557, 0.024516296071886153, -0.004974690818913442, -0.04553755452674488, 0.0016677968962356925, 0.002426756122826064, 0.005784672320818846, -0.005899472731315978, -0.01375055523505098, 0.02400607099042935, -0.015485318649358919, 0.0069263001256711695, -0.01767928556830057, -0.025702568222119974, 0.0001830630385776851, -0.019312003966317152, 0.041889444728667465, 0.02597043708837674, -0.003536494743672014, -0.007111256601283936, -0.0005365331402138678, 9.845741615183182e-05, -0.005322281364617577, -0.020689610754927923, -0.04864992286701841, -0.005558260348376024, -0.023279000482184058, -0.013240330153594179, 0.007889349152013614, 0.00039303245246946654, 0.00985371431863841, -0.046558000964368115, -0.003963808132976761, -0.011390766328789107, -0.007570458708933761, -0.0166460800111812, 0.03326664923395085, 0.017972665222968878, -0.01660781382856388, -0.0012301198655540796, -0.01482202697478767, -0.019975295640888402, 0.008941687800441646, -0.026506172958245085, 0.009126643810393116, -0.0054020039753875405, -0.013367886889619674, 0.017755819796180388, -0.03538408192501269, -0.017194571275255314, 0.005280825402126227, -0.005166024991629094, -0.012997973938394141, 0.00017758210326648393, 0.2049062288002751, -0.030587969884609125, -0.011046364165975119, 0.013010729332599913, -0.00569219431584311, 0.0031075871629221937, 0.02622554869778255, 0.0012046086114812396, 0.00912026611329023, -0.008928931474913282, -0.014579670759587632, -0.001088213543877738, -0.0069263001256711695, 0.017947152571912154, 0.012264525733045963, -0.027832756307387584, -0.030715525689312028, -0.04290989489158106, -0.002740863293078752, -0.01784510755562079, 0.012959706824454234, -0.0036640510140362142, -0.0010499467791838019, 0.004416632543523699, 0.0018399977448120388, -0.0279092905352674, -1.1410297902475414e-05, 0.009254200546418612, 0.007589592265903715, -0.00648304226077856, -0.04438954669648319, 0.0034248831817263246, -0.02377647016943509, 0.009911114523886976, -0.002766374547151592, 0.012187992436488737, 0.02750111047010196, 0.0033132716197806357, 0.0004012040224016942, 0.012838528716854215, 0.0021812105934132884, -0.017207326669461086, -0.0011886640194780527, 0.0006433614293323925, -0.016773635815884102, 0.009439156556370083, 0.0029178474144822626, -0.014133223580482284, 0.004164708851346743, 0.026378615290897, -0.028266447160964568, -0.0023055777823953977, 0.014847538694521805, 0.044261992754425473, 0.030690014900900484, -0.032883979957196954, 0.011409899420097765, -0.005950495239461658, 0.0004954760166220951, -0.01825328762078623, -0.007838326643867934, 0.019439559771020055, -0.005370114558550519, 0.030894104933483206, -0.003542872673605548, 0.0287256488029531, -0.023674425153143726, 0.03216966670580262, 0.004958746110494931, -0.02312593388906961, 0.011358876911952085, -0.019477827816282555, -0.031149216542889015, -0.00248415632807463, -0.03739946773713798, -0.004451710343250869, 0.018891068506945937, -0.001456532070827549, 0.009636868891849917, 0.013865355645548113, -0.019898763275653767, -0.003456772132902051, 0.005647549504800316, -0.0001992068608557598, 0.02760315548639332, -0.015791453698233, 0.012143347625445944, 0.009917492220989862, -0.020153874885059576, 0.0073217243309695425, -0.008444218113190616, -0.03216966670580262, -0.0016837414882388793, 0.011237698804352067, 0.0009805880426213525, 0.0045856443107179555, 0.01773030714512366, 0.008291151520076168, 0.004429387937729472, 0.01008969283673556, -0.009534823875558558, 0.0075194362007880815, 0.006581898428518477, 0.002303983358119676, -0.005873961477243138, -0.010886918944435192, 0.008080683790390562, 0.03380238696646438, 0.0032494934845985353, 8.550249335690436e-05, -0.015102650303927614, -0.011569344641637691, 0.003555628300641968, -0.002409217222962479, -0.0009407267372363709, -0.002592579274299524, -0.03204210903845453, 0.009094755324878686, 0.024133626795132257, -0.002339061390677493, -0.000837884567014812, -0.020753389588601966, -0.0010762552453945026, 0.027424576242222144, -0.010395827885609641, -0.014235268596773645, -0.02887871725871273, 0.011907368176026202, -0.017806841373003476, -0.04977241618357819, 0.00624387442846867, -0.024822431120760234, 0.01646750076701002, -0.014503136531707816, -0.02222028413665314, -0.004375176581032349, 0.011480055019552102, -0.010064182048324016, -0.016276167991278255, -0.003673617792521191, 0.0008211428210814261, -0.03589430514382431, -0.025753591661588245, 0.032297220647860336, 0.0015410379544246768, -0.035486125078658864, 0.005350981467241861, 0.004850323397100685, -0.007060234093138256, -0.02445251723821211, -0.005354170315793304, 0.0033642938950956677, 0.013737799840845208, -0.02104676738062509, 0.023151444677481155, -0.014503136531707816, -0.008559019455010341, -0.022386107986618546, -0.01492407199107903, 0.01920995895002579, -0.0033037048412956588, -0.026200037909371005, 0.033037048412956585, -0.03648106445316092, -0.02072787693754524, -0.02144219205158476, -0.16102691277318426, 0.023916781368343763, 0.014783759860847762, -0.018010931405586197, 0.018087465633466013, 0.012187992436488737, 0.040996552233101946, 0.030715525689312028, 0.005985573504850123, 0.005172402688731981, 0.009286089031933042, 0.017003236636878367, -0.03313909156660277, -0.005016146315743497, -0.004764223089227836, -0.015740432121409912, -0.024733141498674647, 0.017092526258963955, -0.0058069947263402425, 0.0009335517115803001, 0.017411416702043808, -0.015268473222570427, -0.008820508761519037, -0.03569021511124158, 0.006151396423492935, -0.0172838608973409, -0.02322797890536097, 0.01732212707995822, -0.002656357176650976, -0.02128912545847031, -0.038624007932634305, 0.015919009502935906, 0.007162279109429616, -0.005953684088013101, 0.011645877938194917, 0.008559019455010341, -0.005519993234436116, 0.0039829412242854195, -0.02062583192125388, 0.017079770864758183, 0.014579670759587632, 0.013240330153594179, -0.003450394435799165, -0.0022449884957647407, -0.03622595284375511, 0.017998176011380422, -0.0033834274520656215, 0.0045984001705850226, 0.003440827657314188, -0.019082403145322887, -0.013520954414056714, -0.01650576881227252, 0.0017666529475602855, 0.005724083267018836, -0.0018112976421877556, -0.010599917918192361, 0.0036385397599633744, 0.0039797523757339765, 0.006272574531092954, 0.008087061487493448, -0.03285846916878541, -0.02928689732387817, -0.0013959427841968922, -0.01722008392631204, -0.005494481980363276, -0.010529762318738022, -0.022233041393504096, 0.00794674935726218, -0.008284772891650692, 0.009815447204698501, -0.0009518879399970693, -0.0433180749567465, 0.007493924946715241, -0.03227170985944879, 0.006932677822774056, -0.019069647751117115, -0.028368492177255927, -0.002898714090342957, -0.019171692767408474, -0.0018272421177756187, -0.004324154072886669, 0.05306336749331326, -0.010740229117101038, 0.010708340631586608, 0.011645877938194917, -0.0052042916399077065, -0.012264525733045963, 0.005150080283210583, -0.005845261374618855, -0.01722008392631204, 0.016123099535518624, -0.0166460800111812, -0.020345209523436523, -0.01436282440147655, 0.0005763944455988494, 0.021977927921453103, -0.0018671034231606003, 0.016033809913433037, -0.01228365882435462, -0.00940726713953306, 0.022539174579732993, -0.014554159039853498, -0.0310726823150092, 0.040537350591113415, 0.020345209523436523, 0.016556790389095608, 0.009860092015741296, 0.025294388156954534, 0.040027127372301796, 0.0019181259313062803, -0.022079972937744465, 0.030587969884609125, 0.021072280031681816, 0.025128566169634315, 0.006122696320868652, 0.017143549698432226, 0.016633324616975424, -0.03737395694872644, 0.010727473722895266, 0.003090048263058609, 0.040766951412107684, 0.005079924683756245, -0.010504250599003886, 7.150121507911915e-05, 0.010504250599003886, 0.004611155564790795, -0.07097225015731773, -0.0053063366561990665, -0.0036608621654847713, 0.041277178356209664, -0.01123132110724918, 0.027475599681690416, -0.0019245037448244902, 0.025103053518577587, -0.0022848498011497223, 0.016225144551809983, 0.01366126561296539, -0.003571572776229831, -0.008986332611484439, 0.00784470434097082, 0.026046969453611374, -0.00690078887159833, -0.020766144982807738, -0.014681714844556402, -0.021990683315658878, -0.0030533758062250707, 0.015855232531907043, -0.007640614774049395, -0.00886515357256183, -0.022692243035492624, -0.014656204056144857, 0.012615305592962837, -0.020408986494465386, 0.01890382390115171, 0.04477221597323709, 0.008877909898090194, -0.008476107530027638, 0.0016677968962356925, 0.016186878369192668, -0.00922231112958159, -0.006479853412227117, -0.011103764371223684, -0.01538327456439015, -0.020855434604893325, 0.0028763916848215595, -0.030001210575272507, -0.0021716438149283115, 0.024388740267183247, 0.008278395194547804, -0.045665108468802604, -0.008220994989299239, -0.010102449162263924, 0.0020106041691126636, 0.010619051009501019, 0.0025590956660174287, -0.02196517252724733, -0.019592628226779686, -0.012959706824454234, -0.014248023990979417, -0.022207528742447368, -0.0016375023693356878, -0.000635389191538461, -0.013240330153594179, 0.017373150519426492, -0.02017938567347112, 0.0016000327003642884, -0.02002631908035667, -0.0030182977736672536, -0.03849645399057658, 0.012028547214948811, 0.021837616722544428, 0.023929536762549535, -0.013469931905911035, -0.010032292631486995, 0.022169262559830052, -0.015855232531907043, -0.004282698576056614, 0.020613076527048104, -0.015204695320218975, 0.032577846770968054, -0.003348349419507805, -0.002981625549664363, -0.017513461718335167, 0.003074103787470746, 0.014605181547999177, -0.01293419603604269, -0.011014475680460687, -0.01646750076701002, 0.007959504751467953, -0.012111458208608922, -0.0029577087198672442, 0.03336869238759703, 0.010230004966966829, -0.00820186189799058, 0.006074862661274415, -0.005271258856471898, -0.0016215577773325007, 0.03444016785262408, 0.013163796857036954, -0.02322797890536097, -0.019337514754728696, 0.02704190882811343, -0.019044136962705568, 0.010485117507695228, -0.013418909397765355, 0.0102427603611726, -0.0172838608973409, -0.012526015970877248, -0.08204412604302698, 0.04214456006336363, 0.012385703840645981, -0.019388538194196968, -0.005025713327059122, -0.0007015589631341434, -0.004378365429583792, -0.00871208604812479, -0.00426356501908666, 0.013138285137302818, -0.025077542730166043, 0.011543833853226146, 0.010389450188506755, 0.023725448592611997, -0.027450087030633688, -0.006843388666349763, 0.020766144982807738, -0.004716389429633598, -0.00013084472677712936, 0.010593540221089475, -0.0030629425847100477, -0.004352854175510952, 0.022360597198207, 0.009598601777910009, -0.0044995440028451055, 0.007359990979248155, -0.013635754824553847, 0.02847053719354729, -0.0163016787796898, -0.004930046007870648, -0.010006781843075449, -0.026990885388645157, -0.02159526050734439, 0.016684346193798515, -0.008469729832924752, 0.0028907417361337014, 0.010848652761817875, 0.014694471170084765, 0.005268070007920454, 0.037782137013891874, 0.012385703840645981, -0.021110546214299135, 0.0186487122917459, 0.014949582779490574, 0.0074301470443637885, 0.009298844426138816, -0.009171288621435911, 0.01189461278182043, 0.01701599389372932, 0.00037828376598456363, -0.006862521757658422, 0.027450087030633688, 0.01410771279207074, -0.015434297072535831, 0.015013361613164617, -0.005022524012846383, 0.03232273516156225, 0.016416479190186933, 0.01812573181608333, -0.013559220596674032, 0.013227574759388407, 0.02215650716562428, 0.020153874885059576, 0.011722412166074732, 0.020294186083968255, 0.017232839320517813, 0.0329860268361335, -0.0005373303523517286, -0.018010931405586197, -0.013227574759388407, 0.013253086479122543, 0.003673617792521191, 0.006020651304577292, 0.016429234584392705, 0.004930046007870648, 0.005937739845255885, -0.003552439452090525, -0.0014581264951032706, -0.006384186558699939, 0.0010188549237306124, 0.0026037402442295747, -0.0007015589631341434, -0.03933832118402864, 0.006837010969246877, 0.029771609754278245, 0.02617452712095946, 0.017538974369391894, 0.002645195973890278, -0.016633324616975424, -0.004206164813838093, -0.022653974990230127, -0.020013563686150898, 0.0042986428188138285, 0.005162836143077651, 0.012946951430248462, 0.018865557718534393, 0.0008091844643905289, 0.021901393693573287, -0.008118949973007878, 0.018419111470751637, -0.0029927867524250614, 0.0038713296623397297, 0.0036098396573390912, 0.00927333363772727, -0.005153269131762026, 0.013878111039753884, 0.0033100825383985447, -0.01512816202366175, 0.005845261374618855, 0.0014684903693107845, 0.02154423706787612, 0.042017002396015544, 0.003163392943895038, 0.0060174624560258485, -0.016327189568101346, 0.02312593388906961, 4.210350090250369e-05, 0.0030406201791886504, -0.012111458208608922, 0.03135330657547174, 0.002831746873778766, 0.00038665463895125654, 0.01436282440147655, -0.010644562729235155, -0.0005026510422781659, 0.014873049482933349, 0.007755415184546527, 0.00891617608070751, -0.03173597585222563, 0.022028951360921374, -0.009094755324878686, 0.0012213502992069634, -0.0026164958712659946, -0.016748125027472558, 0.010542517712943796, -0.005067168823889177, -0.008118949973007878, 0.014439358629356365, -0.044619147517477455, 0.030792059917191843, 0.01824053222658046, -0.012819394694222967, 0.0024953175308353283, -0.01594452215399263, 0.024120871400926485, -0.013112774348891274, -0.004164708851346743, -0.028445026405135743, -0.021429436657378988, 0.007200545757708229, -0.004451710343250869, 0.0029895976710429704, -0.033700340087527834, 0.004375176581032349, -0.0032399267061135584, 0.002724918584660241, 0.015816964486644543, -0.030970637298717837, -0.021480458234202075, 0.04278234094952334, 0.00410093094899529, 0.01155658924743192, 0.025855636677879608, 0.0014071039869575906, -0.02308766770645229, -0.0015793048355339369, -0.012991596241291255, -0.018227776832374688, -0.04234865009594636, -0.008412329627676187, -0.0022513664256982747, -0.044108924298665836, 0.0006561170563688125, -0.005679438455976043, 0.0008235345157026704, -0.010166227064615375, -0.019465072422076783, 0.024694875316057328, 0.014286291104919325, -0.0027456465659059163, 0.010453228090858207, -0.034159541729516366, -0.03505243422508188, 0.009866469712844182, 0.027832756307387584, -0.007366368676351041, 0.008520752341070434, -0.00624387442846867]\n"
     ]
    }
   ],
   "source": [
    "vector = embeddings.embed_query(chunks[0].page_content)\n",
    "print(vector)"
   ]
  },
  {
   "cell_type": "markdown",
   "id": "c8d5e2ab",
   "metadata": {},
   "source": [
    "### Inserting the Embeddings into a Pinecone Index"
   ]
  },
  {
   "cell_type": "code",
   "execution_count": 27,
   "id": "7cf5d448",
   "metadata": {},
   "outputs": [],
   "source": [
    "import os\n",
    "import pinecone\n",
    "from langchain.vectorstores import Pinecone\n",
    "\n",
    "pinecone.init(api_key=os.environ.get(\"PINECONE_API_KEY\"), environment=os.environ.get(\"PINECONE_ENV\"))"
   ]
  },
  {
   "cell_type": "code",
   "execution_count": 28,
   "id": "ebd6c9fc",
   "metadata": {},
   "outputs": [
    {
     "name": "stdout",
     "output_type": "stream",
     "text": [
      "Deleting all indexes ...Done\n"
     ]
    }
   ],
   "source": [
    "# Deleting all indexes\n",
    "indexes = pinecone.list_indexes()\n",
    "for i in indexes:\n",
    "    print(\"Deleting all indexes ...\", end=\"\")\n",
    "    pinecone.delete_index(i)\n",
    "    print(\"Done\")"
   ]
  },
  {
   "cell_type": "code",
   "execution_count": 29,
   "id": "17b5d132",
   "metadata": {},
   "outputs": [
    {
     "name": "stdout",
     "output_type": "stream",
     "text": [
      "Creating index churchill-speech ...\n",
      "Done!\n"
     ]
    }
   ],
   "source": [
    "index_name = \"churchill-speech\"\n",
    "if index_name not in pinecone.list_indexes():\n",
    "    print(f\"Creating index {index_name} ...\")\n",
    "    pinecone.create_index(index_name, dimension=1536, metric=\"cosine\")\n",
    "    print(\"Done!\")"
   ]
  },
  {
   "cell_type": "code",
   "execution_count": 34,
   "id": "2514f879",
   "metadata": {},
   "outputs": [],
   "source": [
    "vector_store = Pinecone.from_documents(chunks, embeddings, index_name=index_name)"
   ]
  },
  {
   "cell_type": "markdown",
   "id": "de41780c",
   "metadata": {},
   "source": [
    "### Asking Questions (Similarity Search)"
   ]
  },
  {
   "cell_type": "code",
   "execution_count": 35,
   "id": "7e57687b",
   "metadata": {},
   "outputs": [
    {
     "name": "stdout",
     "output_type": "stream",
     "text": [
      "[Document(page_content='shall fight on the beaches, we shall fight on the landing grounds, we shall fight in the fields and'), Document(page_content='front, now on that, fighting'), Document(page_content='end, we shall fight in France, we shall fight on the seas and oceans, we shall fight with growing'), Document(page_content='Winston Churchill Speech - We Shall Fight on the Beaches\\nWe Shall Fight on the Beaches\\nJune 4, 1940')]\n"
     ]
    }
   ],
   "source": [
    "query = \"Where should we fight?\"\n",
    "result = vector_store.similarity_search(query)\n",
    "print(result)"
   ]
  },
  {
   "cell_type": "code",
   "execution_count": 36,
   "id": "0bd20ee6",
   "metadata": {},
   "outputs": [
    {
     "name": "stdout",
     "output_type": "stream",
     "text": [
      "shall fight on the beaches, we shall fight on the landing grounds, we shall fight in the fields and\n",
      "--------------------------------------------------\n",
      "front, now on that, fighting\n",
      "--------------------------------------------------\n",
      "end, we shall fight in France, we shall fight on the seas and oceans, we shall fight with growing\n",
      "--------------------------------------------------\n",
      "Winston Churchill Speech - We Shall Fight on the Beaches\n",
      "We Shall Fight on the Beaches\n",
      "June 4, 1940\n",
      "--------------------------------------------------\n"
     ]
    }
   ],
   "source": [
    "for r in result:\n",
    "    print(r.page_content)\n",
    "    print(\"-\" * 50)"
   ]
  },
  {
   "cell_type": "code",
   "execution_count": 39,
   "id": "3981f146",
   "metadata": {},
   "outputs": [],
   "source": [
    "from langchain.chains import RetrievalQA\n",
    "from langchain.chat_models import ChatOpenAI\n",
    "\n",
    "llm = ChatOpenAI(model=\"gpt-3.5-turbo\", temperature=1)\n",
    "\n",
    "retriever = vector_store.as_retriever(search_type=\"similarity\", search_kwargs={\"k\" : 3})\n",
    "\n",
    "chain = RetrievalQA.from_chain_type(llm=llm, chain_type=\"stuff\", retriever=retriever)"
   ]
  },
  {
   "cell_type": "code",
   "execution_count": 42,
   "id": "5b848cfe",
   "metadata": {},
   "outputs": [
    {
     "name": "stdout",
     "output_type": "stream",
     "text": [
      "The French Armies were involved in the fighting against the British troops. They were holding the area that the British were trying to capture. The French Army had plans to launch a strong advance across the Somme to secure the territory.\n"
     ]
    }
   ],
   "source": [
    "#query = \"Where should we fight?\"\n",
    "#query = \"Who was the king of Belgium at that time?\"\n",
    "query = \"What about the French Armies?\"\n",
    "answer = chain.run(query)\n",
    "print(answer)"
   ]
  },
  {
   "cell_type": "code",
   "execution_count": null,
   "id": "7ca1314c",
   "metadata": {},
   "outputs": [],
   "source": []
  }
 ],
 "metadata": {
  "kernelspec": {
   "display_name": "Python 3 (ipykernel)",
   "language": "python",
   "name": "python3"
  },
  "language_info": {
   "codemirror_mode": {
    "name": "ipython",
    "version": 3
   },
   "file_extension": ".py",
   "mimetype": "text/x-python",
   "name": "python",
   "nbconvert_exporter": "python",
   "pygments_lexer": "ipython3",
   "version": "3.11.5"
  }
 },
 "nbformat": 4,
 "nbformat_minor": 5
}
